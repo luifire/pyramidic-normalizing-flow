{
 "cells": [
  {
   "cell_type": "code",
   "execution_count": 4,
   "metadata": {
    "collapsed": true,
    "pycharm": {
     "name": "#%%\n"
    }
   },
   "outputs": [
    {
     "name": "stdout",
     "output_type": "stream",
     "text": [
      "The autoreload extension is already loaded. To reload it, use:\n",
      "  %reload_ext autoreload\n"
     ]
    }
   ],
   "source": [
    "%load_ext autoreload\n",
    "%autoreload 2\n",
    "import seaborn as sns\n",
    "from pyr_flow.utils.evaluation_utils import *\n",
    "import importlib\n",
    "\n",
    "#importlib.reload(pyr_flow.utils.evaluation_utils)\n",
    "\n",
    "\n",
    "from matplotlib import pyplot as plt\n",
    "%matplotlib inline\n",
    "\n",
    "\n",
    "sns.set_style('whitegrid')"
   ]
  },
  {
   "cell_type": "code",
   "execution_count": 5,
   "outputs": [],
   "source": [
    "COMPLETE_NLL = 0\n",
    "TOP_NLL = 1"
   ],
   "metadata": {
    "collapsed": false,
    "pycharm": {
     "name": "#%%\n"
    }
   }
  },
  {
   "cell_type": "code",
   "execution_count": null,
   "outputs": [
    {
     "name": "stdout",
     "output_type": "stream",
     "text": [
      "##########################################################################\n",
      "\n",
      "Creating Pyramid Flow Network\n",
      "Channel Shifter - Shift 27 by 3\n",
      "Conv Bundle 8 - Size: 9 total_pixel_depth: 27 internal_pixel_depth: 3 jump_over_pixels :True |param count: 2457.0\n",
      "S-Log Gate\n",
      "Cut Off - Remaining Depth 13\n",
      "Combine Neighbors - 2x2\n",
      "Channel Shifter - Shift 52 by 13\n",
      "Conv Bundle 9 - Size: 4 total_pixel_depth: 52 internal_pixel_depth: 13 jump_over_pixels :True |param count: 4342.0\n",
      "S-Log Gate\n",
      "Cut Off - Remaining Depth 26\n",
      "Combine Neighbors - 2x2\n",
      "Channel Shifter - Shift 104 by 26\n",
      "Conv Bundle 10 - Size: 4 total_pixel_depth: 104 internal_pixel_depth: 26 jump_over_pixels :True |param count: 17134.0\n",
      "S-Log Gate\n",
      "Cut Off - Remaining Depth 52\n",
      "Combine Neighbors - 2x2\n",
      "####Last Pixel Stuff:\n",
      "Channel Shifter - Shift 208 by 104\n",
      "Conv Bundle 11 - Size: 2 total_pixel_depth: 208 internal_pixel_depth: 104 jump_over_pixels :True |param count: 38220.0\n",
      "S-Log Gate\n",
      "Cut Off - Remaining Depth 69\n",
      "Channel Shifter - Shift 69 by 34\n",
      "Conv Bundle 12 - Size: 2 total_pixel_depth: 69 internal_pixel_depth: 34 jump_over_pixels :True |param count: 4304.0\n",
      "S-Log Gate\n",
      "Cut Off - Remaining Depth 23\n",
      "Channel Shifter - Shift 23 by 1\n",
      "Conv Bundle 13 - Size: 23 total_pixel_depth: 23 internal_pixel_depth: 1 jump_over_pixels :True |param count: 4347.0\n",
      "S-Log Gate\n",
      "Cut Off - Remaining Depth 7\n",
      "Channel Shifter - Shift 7 by 1\n",
      "Conv Bundle 14 - Size: 7 total_pixel_depth: 7 internal_pixel_depth: 1 jump_over_pixels :True |param count: 147.0\n",
      "S-Log Gate\n",
      "Cut Off - Remaining Depth 2\n",
      "##########################################################################\n",
      "\n",
      "##########################################################################\n",
      "\n",
      "Bundle 8 Conv 0 diag min: 1.043e+00 max: 1.163e+00 prod: 1.102e+01 avg total 3.981e-02\n",
      "Bundle 8 Conv 1 diag min: 1.000e+00 max: 1.646e+00 prod: 2.683e+01 avg total 4.354e-02\n",
      "Bundle 8 Conv 2 diag min: 1.000e+00 max: 1.646e+00 prod: 1.954e+01 avg total 4.141e-02\n",
      "Bundle 8 Conv 3 diag min: 1.000e+00 max: 1.642e+00 prod: 1.285e+01 avg total 3.929e-02\n",
      "Bundle 8 Conv 4 diag min: 1.000e+00 max: 1.644e+00 prod: 9.036e+00 avg total 3.879e-02\n",
      "Bundle 8 Conv 5 diag min: 1.000e+00 max: 1.644e+00 prod: 4.333e+00 avg total 3.643e-02\n",
      "Bundle 8 Conv 6 diag min: 1.000e+00 max: 1.056e+00 prod: 1.511e+00 avg total 3.410e-02\n",
      "Bundle 8 Conv 7 diag min: 1.000e+00 max: 1.047e+00 prod: 1.281e+00 avg total 3.492e-02\n",
      "Bundle 8 Conv 8 diag min: 1.000e+00 max: 1.042e+00 prod: 1.127e+00 avg total 3.545e-02\n",
      "bias mean  3.994e-02\n",
      "Alpha: 1.654e-01\n",
      "Bundle 9 Conv 0 diag min: 1.033e+00 max: 1.173e+00 prod: 7.038e+01 avg total 2.230e-02\n",
      "Bundle 9 Conv 1 diag min: 1.000e+00 max: 1.634e+00 prod: 4.564e+03 avg total 1.603e-02\n",
      "Bundle 9 Conv 2 diag min: 1.000e+00 max: 1.632e+00 prod: 8.990e+02 avg total 1.777e-02\n",
      "Bundle 9 Conv 3 diag min: 1.000e+00 max: 1.066e+00 prod: 1.663e+00 avg total 1.886e-02\n",
      "bias mean  3.913e-02\n",
      "Alpha: 1.700e-01\n",
      "Bundle 10 Conv 0 diag min: 1.021e+00 max: 1.176e+00 prod: 1.212e+03 avg total 8.365e-03\n",
      "Bundle 10 Conv 1 diag min: 1.000e+00 max: 1.608e+00 prod: 9.465e+06 avg total 8.485e-03\n",
      "Bundle 10 Conv 2 diag min: 6.357e-01 max: 1.606e+00 prod: 8.128e+04 avg total 8.054e-03\n",
      "Bundle 10 Conv 3 diag min: 1.000e+00 max: 1.113e+00 prod: 5.674e+00 avg total 9.508e-03\n",
      "bias mean -5.672e-03\n",
      "Alpha: 2.034e-01\n",
      "Bundle 11 Conv 0 diag min: 7.621e-01 max: 1.451e+00 prod: 8.676e+06 avg total 8.069e-03\n",
      "Bundle 11 Conv 1 diag min: 5.100e-01 max: 1.290e+00 prod: 8.565e+03 avg total 1.193e-03\n",
      "bias mean  4.246e-02\n",
      "Alpha: 1.904e-01\n",
      "Bundle 12 Conv 0 diag min: 9.907e-01 max: 1.415e+00 prod: 1.538e+03 avg total 1.455e-02\n",
      "Bundle 12 Conv 1 diag min: 4.580e-01 max: 1.461e+00 prod: 6.774e+00 avg total 5.099e-03\n",
      "bias mean  6.262e-02\n",
      "Alpha: 9.070e-05\n",
      "Bundle 13 Conv 0 diag min: 1.007e+00 max: 1.492e+00 prod: 5.630e+00 avg total 4.103e-02\n",
      "Bundle 13 Conv 1 diag min: 1.000e+00 max: 1.272e+00 prod: 4.988e+00 avg total 4.023e-02\n",
      "Bundle 13 Conv 2 diag min: 1.000e+00 max: 1.300e+00 prod: 5.182e+00 avg total 4.044e-02\n",
      "Bundle 13 Conv 3 diag min: 1.000e+00 max: 1.300e+00 prod: 4.697e+00 avg total 4.150e-02\n",
      "Bundle 13 Conv 4 diag min: 1.000e+00 max: 1.224e+00 prod: 3.934e+00 avg total 4.139e-02\n",
      "Bundle 13 Conv 5 diag min: 1.000e+00 max: 1.247e+00 prod: 3.888e+00 avg total 4.235e-02\n",
      "Bundle 13 Conv 6 diag min: 1.000e+00 max: 1.120e+00 prod: 2.799e+00 avg total 4.264e-02\n",
      "Bundle 13 Conv 7 diag min: 1.000e+00 max: 1.130e+00 prod: 2.976e+00 avg total 4.287e-02\n",
      "Bundle 13 Conv 8 diag min: 1.000e+00 max: 1.142e+00 prod: 2.901e+00 avg total 4.402e-02\n",
      "Bundle 13 Conv 9 diag min: 1.000e+00 max: 1.125e+00 prod: 2.658e+00 avg total 4.360e-02\n",
      "Bundle 13 Conv 10 diag min: 8.379e-01 max: 1.109e+00 prod: 1.933e+00 avg total 4.179e-02\n",
      "Bundle 13 Conv 11 diag min: 8.759e-01 max: 1.119e+00 prod: 2.064e+00 avg total 4.436e-02\n",
      "Bundle 13 Conv 12 diag min: 8.473e-01 max: 1.119e+00 prod: 1.903e+00 avg total 4.371e-02\n",
      "Bundle 13 Conv 13 diag min: 6.768e-01 max: 1.124e+00 prod: 1.510e+00 avg total 4.481e-02\n",
      "Bundle 13 Conv 14 diag min: 6.566e-01 max: 1.156e+00 prod: 1.440e+00 avg total 4.240e-02\n",
      "Bundle 13 Conv 15 diag min: 7.320e-01 max: 1.199e+00 prod: 1.647e+00 avg total 4.339e-02\n",
      "Bundle 13 Conv 16 diag min: 6.099e-01 max: 1.203e+00 prod: 1.295e+00 avg total 4.173e-02\n",
      "Bundle 13 Conv 17 diag min: 1.000e+00 max: 1.329e+00 prod: 2.611e+00 avg total 4.659e-02\n",
      "Bundle 13 Conv 18 diag min: 1.000e+00 max: 1.336e+00 prod: 2.198e+00 avg total 4.626e-02\n",
      "Bundle 13 Conv 19 diag min: 1.000e+00 max: 1.334e+00 prod: 1.870e+00 avg total 4.401e-02\n",
      "Bundle 13 Conv 20 diag min: 1.000e+00 max: 1.335e+00 prod: 1.670e+00 avg total 4.481e-02\n",
      "Bundle 13 Conv 21 diag min: 1.000e+00 max: 1.340e+00 prod: 1.472e+00 avg total 4.406e-02\n",
      "Bundle 13 Conv 22 diag min: 1.000e+00 max: 1.349e+00 prod: 1.349e+00 avg total 4.332e-02\n",
      "bias mean  6.244e-02\n",
      "Alpha: 9.601e-05\n",
      "Bundle 14 Conv 0 diag min: 1.110e+00 max: 1.595e+00 prod: 4.371e+00 avg total 1.771e-01\n",
      "Bundle 14 Conv 1 diag min: 1.000e+00 max: 1.352e+00 prod: 2.736e+00 avg total 1.687e-01\n",
      "Bundle 14 Conv 2 diag min: 1.000e+00 max: 1.356e+00 prod: 2.274e+00 avg total 1.639e-01\n",
      "Bundle 14 Conv 3 diag min: 1.000e+00 max: 1.355e+00 prod: 1.885e+00 avg total 1.542e-01\n",
      "Bundle 14 Conv 4 diag min: 1.000e+00 max: 1.361e+00 prod: 1.681e+00 avg total 1.588e-01\n",
      "Bundle 14 Conv 5 diag min: 1.000e+00 max: 1.364e+00 prod: 1.498e+00 avg total 1.523e-01\n",
      "Bundle 14 Conv 6 diag min: 1.000e+00 max: 1.365e+00 prod: 1.365e+00 avg total 1.492e-01\n",
      "bias mean -7.125e-02\n",
      "Alpha: 5.685e-05\n",
      "##########################################################################\n",
      "\n"
     ]
    }
   ],
   "source": [
    "# Load Model\n",
    "model_path = f'../{STATE_DIR}CIFAR_use/54 - loss - 8.00334.model'\n",
    "results = load_eval_data(model_path)"
   ],
   "metadata": {
    "collapsed": false,
    "pycharm": {
     "name": "#%%\n",
     "is_executing": true
    }
   }
  },
  {
   "cell_type": "code",
   "execution_count": null,
   "outputs": [],
   "source": [
    "results[EvaluatedDatasets.CIFAR_TRAIN][TOP_NLL].max()"
   ],
   "metadata": {
    "collapsed": false,
    "pycharm": {
     "name": "#%%\n",
     "is_executing": true
    }
   }
  },
  {
   "cell_type": "code",
   "execution_count": null,
   "outputs": [],
   "source": [
    "def filter_threshold(llarray, threshold):\n",
    "    print(np.sum(llarray < threshold)/len(llarray)*100, \"inliers\")\n",
    "    return llarray[llarray < threshold]\n",
    "\n",
    "def plot_mean(set):\n",
    "    mean = set.mean()\n",
    "    plt.vlines(mean)\n",
    "\n",
    "def plot_all(idx, threshold):\n",
    "    c_train = results[EvaluatedDatasets.CIFAR_TRAIN][idx]\n",
    "    c_test = results[EvaluatedDatasets.CIFAR_TEST][idx]\n",
    "    svhn = results[EvaluatedDatasets.SVHN][idx]\n",
    "\n",
    "    a4_dims = (11.7, 8.27)\n",
    "    fig, ax = plt.subplots(figsize=a4_dims)\n",
    "\n",
    "\n",
    "    sns.distplot(filter_threshold(c_train, threshold), label=f\"Cifar Test {c_test.mean():.5f}\", color='r', ax=ax)\n",
    "    sns.distplot(filter_threshold(c_test, threshold), label=f\"Cifar Train {c_train.mean():.5f}\", color='g', ax=ax)\n",
    "    sns.distplot(filter_threshold(svhn, threshold), label=f\"SVHN {svhn.mean():.3f}\", color='b', ax=ax)\n",
    "\n",
    "    plt.axvline(c_train.mean(), color='r')\n",
    "    plt.axvline(c_test.mean(), color='g')\n",
    "    plt.axvline(svhn.mean(), color='b')\n",
    "\n",
    "    # plt.xticks(np.linspace(-11000, 0, 5), fontsize=16)\n",
    "    #plt.yticks(np.linspace(0., 0.0006, 5), fontsize=13)\n",
    "    plt.legend(fontsize=13)"
   ],
   "metadata": {
    "collapsed": false,
    "pycharm": {
     "name": "#%%\n",
     "is_executing": true
    }
   }
  },
  {
   "cell_type": "code",
   "execution_count": null,
   "outputs": [],
   "source": [
    "print(\"Top NLL\")\n",
    "plot_all(TOP_NLL, threshold = 0.02)"
   ],
   "metadata": {
    "collapsed": false,
    "pycharm": {
     "name": "#%%\n",
     "is_executing": true
    }
   }
  },
  {
   "cell_type": "code",
   "execution_count": null,
   "outputs": [],
   "source": [
    "print(\"Complete NLL\")\n",
    "plot_all(COMPLETE_NLL, threshold = 10)\n"
   ],
   "metadata": {
    "collapsed": false,
    "pycharm": {
     "name": "#%%\n",
     "is_executing": true
    }
   }
  },
  {
   "cell_type": "code",
   "execution_count": null,
   "outputs": [],
   "source": [
    "a = filter_threshold(results[EvaluatedDatasets.CIFAR_TRAIN][COMPLETE_NLL], 10000)\n",
    "print(len(a))"
   ],
   "metadata": {
    "collapsed": false,
    "pycharm": {
     "name": "#%%\n",
     "is_executing": true
    }
   }
  }
 ],
 "metadata": {
  "kernelspec": {
   "name": "python3",
   "language": "python",
   "display_name": "Python 3"
  },
  "language_info": {
   "codemirror_mode": {
    "name": "ipython",
    "version": 2
   },
   "file_extension": ".py",
   "mimetype": "text/x-python",
   "name": "python",
   "nbconvert_exporter": "python",
   "pygments_lexer": "ipython2",
   "version": "2.7.6"
  }
 },
 "nbformat": 4,
 "nbformat_minor": 0
}